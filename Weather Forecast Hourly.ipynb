{
 "cells": [
  {
   "cell_type": "code",
   "execution_count": 1,
   "metadata": {},
   "outputs": [
    {
     "name": "stdout",
     "output_type": "stream",
     "text": [
      "{'lat': 34.34, 'lon': 19.41, 'timezone': 'Etc/GMT-1', 'timezone_offset': 3600, 'current': {'dt': 1601759491, 'sunrise': 1601699906, 'sunset': 1601742238, 'temp': 26.8, 'feels_like': 23.95, 'pressure': 1013, 'humidity': 73, 'dew_point': 21.55, 'uvi': 6.58, 'clouds': 33, 'visibility': 10000, 'wind_speed': 10.45, 'wind_deg': 134, 'weather': [{'id': 802, 'main': 'Clouds', 'description': 'scattered clouds', 'icon': '03n'}]}, 'hourly': [{'dt': 1601758800, 'temp': 26.8, 'feels_like': 23.95, 'pressure': 1013, 'humidity': 73, 'dew_point': 21.55, 'clouds': 33, 'visibility': 10000, 'wind_speed': 10.45, 'wind_deg': 134, 'weather': [{'id': 802, 'main': 'Clouds', 'description': 'scattered clouds', 'icon': '03n'}], 'pop': 0}, {'dt': 1601762400, 'temp': 26.83, 'feels_like': 24.17, 'pressure': 1013, 'humidity': 73, 'dew_point': 21.58, 'clouds': 32, 'visibility': 10000, 'wind_speed': 10.19, 'wind_deg': 137, 'weather': [{'id': 802, 'main': 'Clouds', 'description': 'scattered clouds', 'icon': '03n'}], 'pop': 0}, {'dt': 1601766000, 'temp': 27.16, 'feels_like': 24.64, 'pressure': 1013, 'humidity': 69, 'dew_point': 20.98, 'clouds': 31, 'visibility': 10000, 'wind_speed': 9.55, 'wind_deg': 142, 'weather': [{'id': 802, 'main': 'Clouds', 'description': 'scattered clouds', 'icon': '03n'}], 'pop': 0}, {'dt': 1601769600, 'temp': 27.37, 'feels_like': 25.27, 'pressure': 1012, 'humidity': 69, 'dew_point': 21.18, 'clouds': 34, 'visibility': 10000, 'wind_speed': 9.1, 'wind_deg': 147, 'weather': [{'id': 802, 'main': 'Clouds', 'description': 'scattered clouds', 'icon': '03n'}], 'pop': 0}, {'dt': 1601773200, 'temp': 27.42, 'feels_like': 25.4, 'pressure': 1012, 'humidity': 69, 'dew_point': 21.23, 'clouds': 4, 'visibility': 10000, 'wind_speed': 9.02, 'wind_deg': 155, 'weather': [{'id': 800, 'main': 'Clear', 'description': 'clear sky', 'icon': '01n'}], 'pop': 0}, {'dt': 1601776800, 'temp': 27.23, 'feels_like': 25.57, 'pressure': 1012, 'humidity': 70, 'dew_point': 21.42, 'clouds': 4, 'visibility': 10000, 'wind_speed': 8.54, 'wind_deg': 168, 'weather': [{'id': 800, 'main': 'Clear', 'description': 'clear sky', 'icon': '01n'}], 'pop': 0}, {'dt': 1601780400, 'temp': 27.04, 'feels_like': 25.56, 'pressure': 1012, 'humidity': 71, 'dew_point': 21.53, 'clouds': 19, 'visibility': 10000, 'wind_speed': 8.33, 'wind_deg': 175, 'weather': [{'id': 801, 'main': 'Clouds', 'description': 'few clouds', 'icon': '02n'}], 'pop': 0}, {'dt': 1601784000, 'temp': 27, 'feels_like': 25.27, 'pressure': 1012, 'humidity': 72, 'dew_point': 21.56, 'clouds': 19, 'visibility': 10000, 'wind_speed': 8.82, 'wind_deg': 176, 'weather': [{'id': 801, 'main': 'Clouds', 'description': 'few clouds', 'icon': '02n'}], 'pop': 0}, {'dt': 1601787600, 'temp': 26.9, 'feels_like': 24.93, 'pressure': 1012, 'humidity': 72, 'dew_point': 21.43, 'clouds': 26, 'visibility': 10000, 'wind_speed': 9.09, 'wind_deg': 179, 'weather': [{'id': 802, 'main': 'Clouds', 'description': 'scattered clouds', 'icon': '03d'}], 'pop': 0}, {'dt': 1601791200, 'temp': 26.8, 'feels_like': 25.18, 'pressure': 1012, 'humidity': 72, 'dew_point': 21.42, 'clouds': 35, 'visibility': 10000, 'wind_speed': 8.52, 'wind_deg': 186, 'weather': [{'id': 802, 'main': 'Clouds', 'description': 'scattered clouds', 'icon': '03d'}], 'pop': 0}, {'dt': 1601794800, 'temp': 26.77, 'feels_like': 25, 'pressure': 1013, 'humidity': 72, 'dew_point': 21.51, 'clouds': 73, 'visibility': 10000, 'wind_speed': 8.72, 'wind_deg': 188, 'weather': [{'id': 803, 'main': 'Clouds', 'description': 'broken clouds', 'icon': '04d'}], 'pop': 0}, {'dt': 1601798400, 'temp': 26.85, 'feels_like': 25.35, 'pressure': 1014, 'humidity': 73, 'dew_point': 21.62, 'clouds': 41, 'visibility': 10000, 'wind_speed': 8.55, 'wind_deg': 189, 'weather': [{'id': 802, 'main': 'Clouds', 'description': 'scattered clouds', 'icon': '03d'}], 'pop': 0}, {'dt': 1601802000, 'temp': 26.91, 'feels_like': 25.76, 'pressure': 1015, 'humidity': 73, 'dew_point': 21.87, 'clouds': 42, 'visibility': 10000, 'wind_speed': 8.1, 'wind_deg': 197, 'weather': [{'id': 802, 'main': 'Clouds', 'description': 'scattered clouds', 'icon': '03d'}], 'pop': 0}, {'dt': 1601805600, 'temp': 26.9, 'feels_like': 26.12, 'pressure': 1015, 'humidity': 74, 'dew_point': 22.06, 'clouds': 52, 'visibility': 10000, 'wind_speed': 7.72, 'wind_deg': 198, 'weather': [{'id': 803, 'main': 'Clouds', 'description': 'broken clouds', 'icon': '04d'}], 'pop': 0}, {'dt': 1601809200, 'temp': 27, 'feels_like': 26.51, 'pressure': 1014, 'humidity': 74, 'dew_point': 22.13, 'clouds': 61, 'visibility': 10000, 'wind_speed': 7.39, 'wind_deg': 202, 'weather': [{'id': 803, 'main': 'Clouds', 'description': 'broken clouds', 'icon': '04d'}], 'pop': 0}, {'dt': 1601812800, 'temp': 27.02, 'feels_like': 26.43, 'pressure': 1014, 'humidity': 74, 'dew_point': 22.03, 'clouds': 67, 'visibility': 10000, 'wind_speed': 7.54, 'wind_deg': 199, 'weather': [{'id': 803, 'main': 'Clouds', 'description': 'broken clouds', 'icon': '04d'}], 'pop': 0}, {'dt': 1601816400, 'temp': 27.02, 'feels_like': 26.45, 'pressure': 1013, 'humidity': 73, 'dew_point': 21.89, 'clouds': 100, 'visibility': 10000, 'wind_speed': 7.34, 'wind_deg': 197, 'weather': [{'id': 804, 'main': 'Clouds', 'description': 'overcast clouds', 'icon': '04d'}], 'pop': 0}, {'dt': 1601820000, 'temp': 27.02, 'feels_like': 27.24, 'pressure': 1013, 'humidity': 73, 'dew_point': 21.82, 'clouds': 100, 'visibility': 10000, 'wind_speed': 6.21, 'wind_deg': 205, 'weather': [{'id': 804, 'main': 'Clouds', 'description': 'overcast clouds', 'icon': '04d'}], 'pop': 0}, {'dt': 1601823600, 'temp': 27.02, 'feels_like': 27.85, 'pressure': 1013, 'humidity': 72, 'dew_point': 21.59, 'clouds': 100, 'visibility': 10000, 'wind_speed': 5.18, 'wind_deg': 211, 'weather': [{'id': 804, 'main': 'Clouds', 'description': 'overcast clouds', 'icon': '04d'}], 'pop': 0}, {'dt': 1601827200, 'temp': 27.08, 'feels_like': 27.83, 'pressure': 1013, 'humidity': 70, 'dew_point': 21.2, 'clouds': 100, 'visibility': 10000, 'wind_speed': 5, 'wind_deg': 210, 'weather': [{'id': 804, 'main': 'Clouds', 'description': 'overcast clouds', 'icon': '04d'}], 'pop': 0}, {'dt': 1601830800, 'temp': 27.24, 'feels_like': 28.05, 'pressure': 1013, 'humidity': 68, 'dew_point': 20.86, 'clouds': 100, 'visibility': 10000, 'wind_speed': 4.68, 'wind_deg': 219, 'weather': [{'id': 804, 'main': 'Clouds', 'description': 'overcast clouds', 'icon': '04n'}], 'pop': 0}, {'dt': 1601834400, 'temp': 27.44, 'feels_like': 28.14, 'pressure': 1014, 'humidity': 65, 'dew_point': 20.5, 'clouds': 100, 'visibility': 10000, 'wind_speed': 4.46, 'wind_deg': 209, 'weather': [{'id': 804, 'main': 'Clouds', 'description': 'overcast clouds', 'icon': '04n'}], 'pop': 0}, {'dt': 1601838000, 'temp': 27.66, 'feels_like': 28.23, 'pressure': 1014, 'humidity': 63, 'dew_point': 20.16, 'clouds': 100, 'visibility': 10000, 'wind_speed': 4.44, 'wind_deg': 193, 'weather': [{'id': 804, 'main': 'Clouds', 'description': 'overcast clouds', 'icon': '04n'}], 'pop': 0}, {'dt': 1601841600, 'temp': 27.69, 'feels_like': 28.03, 'pressure': 1014, 'humidity': 63, 'dew_point': 20.04, 'clouds': 100, 'visibility': 10000, 'wind_speed': 4.79, 'wind_deg': 178, 'weather': [{'id': 804, 'main': 'Clouds', 'description': 'overcast clouds', 'icon': '04n'}], 'pop': 0}, {'dt': 1601845200, 'temp': 27.51, 'feels_like': 27.97, 'pressure': 1014, 'humidity': 65, 'dew_point': 20.35, 'clouds': 100, 'visibility': 10000, 'wind_speed': 4.85, 'wind_deg': 177, 'weather': [{'id': 804, 'main': 'Clouds', 'description': 'overcast clouds', 'icon': '04n'}], 'pop': 0}, {'dt': 1601848800, 'temp': 27.39, 'feels_like': 27.21, 'pressure': 1014, 'humidity': 65, 'dew_point': 20.47, 'clouds': 100, 'visibility': 10000, 'wind_speed': 5.69, 'wind_deg': 172, 'weather': [{'id': 804, 'main': 'Clouds', 'description': 'overcast clouds', 'icon': '04n'}], 'pop': 0}, {'dt': 1601852400, 'temp': 27.46, 'feels_like': 27.3, 'pressure': 1014, 'humidity': 65, 'dew_point': 20.42, 'clouds': 100, 'visibility': 10000, 'wind_speed': 5.7, 'wind_deg': 178, 'weather': [{'id': 804, 'main': 'Clouds', 'description': 'overcast clouds', 'icon': '04n'}], 'pop': 0}, {'dt': 1601856000, 'temp': 27.65, 'feels_like': 27.6, 'pressure': 1014, 'humidity': 64, 'dew_point': 20.26, 'clouds': 100, 'visibility': 10000, 'wind_speed': 5.5, 'wind_deg': 177, 'weather': [{'id': 804, 'main': 'Clouds', 'description': 'overcast clouds', 'icon': '04n'}], 'pop': 0}, {'dt': 1601859600, 'temp': 27.56, 'feels_like': 28.62, 'pressure': 1013, 'humidity': 65, 'dew_point': 20.54, 'clouds': 100, 'visibility': 10000, 'wind_speed': 4.03, 'wind_deg': 189, 'weather': [{'id': 804, 'main': 'Clouds', 'description': 'overcast clouds', 'icon': '04n'}], 'pop': 0}, {'dt': 1601863200, 'temp': 27.29, 'feels_like': 29.44, 'pressure': 1014, 'humidity': 68, 'dew_point': 20.98, 'clouds': 100, 'visibility': 10000, 'wind_speed': 2.8, 'wind_deg': 265, 'weather': [{'id': 804, 'main': 'Clouds', 'description': 'overcast clouds', 'icon': '04n'}], 'pop': 0}, {'dt': 1601866800, 'temp': 26.81, 'feels_like': 30.4, 'pressure': 1014, 'humidity': 73, 'dew_point': 21.75, 'clouds': 100, 'visibility': 10000, 'wind_speed': 1.25, 'wind_deg': 283, 'weather': [{'id': 804, 'main': 'Clouds', 'description': 'overcast clouds', 'icon': '04n'}], 'pop': 0}, {'dt': 1601870400, 'temp': 26.78, 'feels_like': 30.85, 'pressure': 1014, 'humidity': 73, 'dew_point': 21.76, 'clouds': 98, 'visibility': 10000, 'wind_speed': 0.54, 'wind_deg': 214, 'weather': [{'id': 804, 'main': 'Clouds', 'description': 'overcast clouds', 'icon': '04n'}], 'pop': 0}, {'dt': 1601874000, 'temp': 26.92, 'feels_like': 30.44, 'pressure': 1014, 'humidity': 72, 'dew_point': 21.45, 'clouds': 89, 'visibility': 10000, 'wind_speed': 1.27, 'wind_deg': 163, 'weather': [{'id': 804, 'main': 'Clouds', 'description': 'overcast clouds', 'icon': '04d'}], 'pop': 0}, {'dt': 1601877600, 'temp': 27.07, 'feels_like': 30.03, 'pressure': 1014, 'humidity': 70, 'dew_point': 21.14, 'clouds': 80, 'visibility': 10000, 'wind_speed': 1.83, 'wind_deg': 173, 'weather': [{'id': 803, 'main': 'Clouds', 'description': 'broken clouds', 'icon': '04d'}], 'pop': 0}, {'dt': 1601881200, 'temp': 27.29, 'feels_like': 29.73, 'pressure': 1015, 'humidity': 68, 'dew_point': 20.92, 'clouds': 37, 'visibility': 10000, 'wind_speed': 2.39, 'wind_deg': 186, 'weather': [{'id': 802, 'main': 'Clouds', 'description': 'scattered clouds', 'icon': '03d'}], 'pop': 0}, {'dt': 1601884800, 'temp': 27.41, 'feels_like': 29.39, 'pressure': 1015, 'humidity': 67, 'dew_point': 20.97, 'clouds': 32, 'visibility': 10000, 'wind_speed': 2.96, 'wind_deg': 184, 'weather': [{'id': 802, 'main': 'Clouds', 'description': 'scattered clouds', 'icon': '03d'}], 'pop': 0}, {'dt': 1601888400, 'temp': 27.46, 'feels_like': 29.33, 'pressure': 1015, 'humidity': 68, 'dew_point': 21.17, 'clouds': 21, 'visibility': 10000, 'wind_speed': 3.32, 'wind_deg': 180, 'weather': [{'id': 801, 'main': 'Clouds', 'description': 'few clouds', 'icon': '02d'}], 'pop': 0}, {'dt': 1601892000, 'temp': 27.44, 'feels_like': 28.42, 'pressure': 1015, 'humidity': 68, 'dew_point': 21.1, 'clouds': 23, 'visibility': 10000, 'wind_speed': 4.58, 'wind_deg': 166, 'weather': [{'id': 801, 'main': 'Clouds', 'description': 'few clouds', 'icon': '02d'}], 'pop': 0}, {'dt': 1601895600, 'temp': 27.28, 'feels_like': 27.5, 'pressure': 1015, 'humidity': 69, 'dew_point': 21.19, 'clouds': 19, 'visibility': 10000, 'wind_speed': 5.73, 'wind_deg': 161, 'weather': [{'id': 801, 'main': 'Clouds', 'description': 'few clouds', 'icon': '02d'}], 'pop': 0}, {'dt': 1601899200, 'temp': 27.14, 'feels_like': 27.09, 'pressure': 1014, 'humidity': 71, 'dew_point': 21.56, 'clouds': 26, 'visibility': 10000, 'wind_speed': 6.35, 'wind_deg': 164, 'weather': [{'id': 802, 'main': 'Clouds', 'description': 'scattered clouds', 'icon': '03d'}], 'pop': 0}, {'dt': 1601902800, 'temp': 26.96, 'feels_like': 27.3, 'pressure': 1014, 'humidity': 74, 'dew_point': 21.99, 'clouds': 23, 'visibility': 10000, 'wind_speed': 6.17, 'wind_deg': 176, 'weather': [{'id': 801, 'main': 'Clouds', 'description': 'few clouds', 'icon': '02d'}], 'pop': 0}, {'dt': 1601906400, 'temp': 26.97, 'feels_like': 27.57, 'pressure': 1013, 'humidity': 75, 'dew_point': 22.2, 'clouds': 12, 'visibility': 10000, 'wind_speed': 5.97, 'wind_deg': 189, 'weather': [{'id': 801, 'main': 'Clouds', 'description': 'few clouds', 'icon': '02d'}], 'pop': 0}, {'dt': 1601910000, 'temp': 27.11, 'feels_like': 27.53, 'pressure': 1013, 'humidity': 73, 'dew_point': 21.96, 'clouds': 30, 'visibility': 10000, 'wind_speed': 5.99, 'wind_deg': 192, 'weather': [{'id': 802, 'main': 'Clouds', 'description': 'scattered clouds', 'icon': '03d'}], 'pop': 0}, {'dt': 1601913600, 'temp': 27.21, 'feels_like': 27.48, 'pressure': 1013, 'humidity': 70, 'dew_point': 21.45, 'clouds': 23, 'visibility': 10000, 'wind_speed': 5.78, 'wind_deg': 191, 'weather': [{'id': 801, 'main': 'Clouds', 'description': 'few clouds', 'icon': '02d'}], 'pop': 0}, {'dt': 1601917200, 'temp': 27.43, 'feels_like': 27.44, 'pressure': 1013, 'humidity': 66, 'dew_point': 20.75, 'clouds': 28, 'visibility': 10000, 'wind_speed': 5.61, 'wind_deg': 189, 'weather': [{'id': 802, 'main': 'Clouds', 'description': 'scattered clouds', 'icon': '03n'}], 'pop': 0}, {'dt': 1601920800, 'temp': 27.69, 'feels_like': 27.29, 'pressure': 1013, 'humidity': 63, 'dew_point': 20.12, 'clouds': 37, 'visibility': 10000, 'wind_speed': 5.85, 'wind_deg': 179, 'weather': [{'id': 802, 'main': 'Clouds', 'description': 'scattered clouds', 'icon': '03n'}], 'pop': 0}, {'dt': 1601924400, 'temp': 27.87, 'feels_like': 27.09, 'pressure': 1014, 'humidity': 61, 'dew_point': 19.86, 'clouds': 65, 'visibility': 10000, 'wind_speed': 6.15, 'wind_deg': 168, 'weather': [{'id': 803, 'main': 'Clouds', 'description': 'broken clouds', 'icon': '04n'}], 'pop': 0}, {'dt': 1601928000, 'temp': 27.49, 'feels_like': 25.96, 'pressure': 1013, 'humidity': 64, 'dew_point': 20.27, 'clouds': 53, 'visibility': 10000, 'wind_speed': 7.51, 'wind_deg': 156, 'weather': [{'id': 803, 'main': 'Clouds', 'description': 'broken clouds', 'icon': '04n'}], 'pop': 0}], 'daily': [{'dt': 1601719200, 'sunrise': 1601699906, 'sunset': 1601742238, 'temp': {'day': 27.2, 'min': 26.6, 'max': 27.37, 'night': 26.8, 'eve': 27.37, 'morn': 26.96}, 'feels_like': {'day': 27.02, 'night': 23.95, 'eve': 27.4, 'morn': 29.44}, 'pressure': 1013, 'humidity': 75, 'dew_point': 22.46, 'wind_speed': 7.26, 'wind_deg': 217, 'weather': [{'id': 804, 'main': 'Clouds', 'description': 'overcast clouds', 'icon': '04d'}], 'clouds': 93, 'pop': 0, 'uvi': 6.58}, {'dt': 1601805600, 'sunrise': 1601786350, 'sunset': 1601828555, 'temp': {'day': 26.91, 'min': 26.8, 'max': 27.51, 'night': 27.51, 'eve': 27.02, 'morn': 26.99}, 'feels_like': {'day': 25.76, 'night': 27.97, 'eve': 27.85, 'morn': 25.48}, 'pressure': 1015, 'humidity': 73, 'dew_point': 21.66, 'wind_speed': 8.1, 'wind_deg': 197, 'weather': [{'id': 802, 'main': 'Clouds', 'description': 'scattered clouds', 'icon': '03d'}], 'clouds': 42, 'pop': 0, 'uvi': 6.24}, {'dt': 1601892000, 'sunrise': 1601872795, 'sunset': 1601914873, 'temp': {'day': 27.46, 'min': 26.81, 'max': 27.69, 'night': 27.16, 'eve': 27.11, 'morn': 26.81}, 'feels_like': {'day': 29.33, 'night': 25.55, 'eve': 27.53, 'morn': 30.4}, 'pressure': 1015, 'humidity': 68, 'dew_point': 21.17, 'wind_speed': 3.32, 'wind_deg': 180, 'weather': [{'id': 801, 'main': 'Clouds', 'description': 'few clouds', 'icon': '02d'}], 'clouds': 21, 'pop': 0, 'uvi': 5.91}, {'dt': 1601978400, 'sunrise': 1601959240, 'sunset': 1602001191, 'temp': {'day': 27.04, 'min': 26.21, 'max': 27.46, 'night': 26.21, 'eve': 27.23, 'morn': 27.14}, 'feels_like': {'day': 29.07, 'night': 26.6, 'eve': 25.73, 'morn': 27.7}, 'pressure': 1014, 'humidity': 69, 'dew_point': 21.02, 'wind_speed': 2.98, 'wind_deg': 71, 'weather': [{'id': 804, 'main': 'Clouds', 'description': 'overcast clouds', 'icon': '04d'}], 'clouds': 100, 'pop': 0, 'uvi': 5.96}, {'dt': 1602064800, 'sunrise': 1602045686, 'sunset': 1602087510, 'temp': {'day': 23.86, 'min': 23.06, 'max': 25.66, 'night': 23.06, 'eve': 23.84, 'morn': 25.09}, 'feels_like': {'day': 23.59, 'night': 21.8, 'eve': 22.92, 'morn': 25.46}, 'pressure': 1015, 'humidity': 85, 'dew_point': 21.34, 'wind_speed': 6.49, 'wind_deg': 337, 'weather': [{'id': 801, 'main': 'Clouds', 'description': 'few clouds', 'icon': '02d'}], 'clouds': 12, 'pop': 0, 'uvi': 5.72}, {'dt': 1602151200, 'sunrise': 1602132131, 'sunset': 1602173830, 'temp': {'day': 23.15, 'min': 22.52, 'max': 23.57, 'night': 23.41, 'eve': 23.57, 'morn': 22.52}, 'feels_like': {'day': 21.97, 'night': 22.53, 'eve': 22.8, 'morn': 20.52}, 'pressure': 1017, 'humidity': 72, 'dew_point': 17.9, 'wind_speed': 5.56, 'wind_deg': 321, 'weather': [{'id': 804, 'main': 'Clouds', 'description': 'overcast clouds', 'icon': '04d'}], 'clouds': 97, 'pop': 0, 'uvi': 5.92}, {'dt': 1602237600, 'sunrise': 1602218577, 'sunset': 1602260150, 'temp': {'day': 22.47, 'min': 21.88, 'max': 23.17, 'night': 21.91, 'eve': 22.35, 'morn': 22.62}, 'feels_like': {'day': 19.71, 'night': 18.55, 'eve': 19.77, 'morn': 21.27}, 'pressure': 1019, 'humidity': 58, 'dew_point': 13.99, 'wind_speed': 5.65, 'wind_deg': 357, 'weather': [{'id': 500, 'main': 'Rain', 'description': 'light rain', 'icon': '10d'}], 'clouds': 1, 'pop': 0.2, 'rain': 0.34, 'uvi': 6.02}, {'dt': 1602324000, 'sunrise': 1602305024, 'sunset': 1602346471, 'temp': {'day': 22.15, 'min': 21.94, 'max': 22.41, 'night': 22.25, 'eve': 22.41, 'morn': 21.96}, 'feels_like': {'day': 20.16, 'night': 21.3, 'eve': 20.74, 'morn': 18.71}, 'pressure': 1019, 'humidity': 59, 'dew_point': 14.02, 'wind_speed': 4.53, 'wind_deg': 357, 'weather': [{'id': 803, 'main': 'Clouds', 'description': 'broken clouds', 'icon': '04d'}], 'clouds': 71, 'pop': 0, 'uvi': 5.97}]}\n"
     ]
    }
   ],
   "source": [
    "import requests\n",
    "import json\n",
    "import time\n",
    "import datetime    \n",
    "from datetime import datetime\n",
    "import pytz\n",
    "\n",
    "api_key = \"631e152dc7fad36960df657774e3cc9e\"\n",
    "lat = \"34.343436\"\n",
    "lon = \"19.412580\"\n",
    "url = \"https://api.openweathermap.org/data/2.5/onecall?lat=%s&lon=%s&appid=%s&units=metric\" % (lat, lon, api_key)\n",
    "\n",
    "response = requests.get(url)\n",
    "data = json.loads(response.text)\n",
    "print(data)"
   ]
  },
  {
   "cell_type": "code",
   "execution_count": 2,
   "metadata": {},
   "outputs": [
    {
     "name": "stdout",
     "output_type": "stream",
     "text": [
      "10.45 33\n"
     ]
    }
   ],
   "source": [
    "wind_speed = data[\"current\"][\"wind_speed\"]\n",
    "cloud_cover = data[\"current\"][\"clouds\"]\n",
    "print(wind_speed, cloud_cover)"
   ]
  },
  {
   "cell_type": "code",
   "execution_count": 3,
   "metadata": {},
   "outputs": [
    {
     "name": "stdout",
     "output_type": "stream",
     "text": [
      "Date and time is 2020-10-05 22:00:00+02:00 and Temp in Celcius is 27.49\n"
     ]
    }
   ],
   "source": [
    "hourly = data[\"hourly\"]\n",
    "\n",
    "for entry in hourly:\n",
    "    dt = datetime.fromtimestamp(entry[\"dt\"], pytz.timezone('Libya'))\n",
    "    temp = entry[\"temp\"]\n",
    "    \n",
    "print (\"Date and time is \" + str(dt), \"and Temp in Celcius is \" + str(temp))"
   ]
  },
  {
   "cell_type": "code",
   "execution_count": null,
   "metadata": {},
   "outputs": [],
   "source": []
  }
 ],
 "metadata": {
  "kernelspec": {
   "display_name": "Python 3",
   "language": "python",
   "name": "python3"
  },
  "language_info": {
   "codemirror_mode": {
    "name": "ipython",
    "version": 3
   },
   "file_extension": ".py",
   "mimetype": "text/x-python",
   "name": "python",
   "nbconvert_exporter": "python",
   "pygments_lexer": "ipython3",
   "version": "3.7.9"
  }
 },
 "nbformat": 4,
 "nbformat_minor": 4
}
